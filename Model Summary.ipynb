{
 "cells": [
  {
   "cell_type": "code",
   "execution_count": 1,
   "id": "d3e4ff1e",
   "metadata": {},
   "outputs": [],
   "source": [
    "import torch\n",
    "from transformers import LEDTokenizer, LEDForConditionalGeneration\n"
   ]
  },
  {
   "cell_type": "code",
   "execution_count": 2,
   "id": "b5037bd4",
   "metadata": {},
   "outputs": [
    {
     "data": {
      "application/vnd.jupyter.widget-view+json": {
       "model_id": "392549d3059e49edbd2394ed92ceeaa3",
       "version_major": 2,
       "version_minor": 0
      },
      "text/plain": [
       "Downloading (…)olve/main/vocab.json: 0.00B [00:00, ?B/s]"
      ]
     },
     "metadata": {},
     "output_type": "display_data"
    },
    {
     "data": {
      "application/vnd.jupyter.widget-view+json": {
       "model_id": "dfe83f93c8974e939581adc07120faf1",
       "version_major": 2,
       "version_minor": 0
      },
      "text/plain": [
       "Downloading (…)olve/main/merges.txt: 0.00B [00:00, ?B/s]"
      ]
     },
     "metadata": {},
     "output_type": "display_data"
    },
    {
     "data": {
      "application/vnd.jupyter.widget-view+json": {
       "model_id": "737f4a77cb4748bcb3457d76492cd274",
       "version_major": 2,
       "version_minor": 0
      },
      "text/plain": [
       "Downloading (…)cial_tokens_map.json:   0%|          | 0.00/772 [00:00<?, ?B/s]"
      ]
     },
     "metadata": {},
     "output_type": "display_data"
    },
    {
     "data": {
      "application/vnd.jupyter.widget-view+json": {
       "model_id": "3b07b5e39734436893b03fd3b90dad7c",
       "version_major": 2,
       "version_minor": 0
      },
      "text/plain": [
       "Downloading (…)okenizer_config.json: 0.00B [00:00, ?B/s]"
      ]
     },
     "metadata": {},
     "output_type": "display_data"
    },
    {
     "data": {
      "application/vnd.jupyter.widget-view+json": {
       "model_id": "96ba804975bb46a3baa11460ddd12703",
       "version_major": 2,
       "version_minor": 0
      },
      "text/plain": [
       "Downloading (…)lve/main/config.json: 0.00B [00:00, ?B/s]"
      ]
     },
     "metadata": {},
     "output_type": "display_data"
    },
    {
     "data": {
      "application/vnd.jupyter.widget-view+json": {
       "model_id": "c3080bcd7fe84556aa6ae2017dca585e",
       "version_major": 2,
       "version_minor": 0
      },
      "text/plain": [
       "Downloading model.safetensors:   0%|          | 0.00/1.84G [00:00<?, ?B/s]"
      ]
     },
     "metadata": {},
     "output_type": "display_data"
    }
   ],
   "source": [
    "model_name = \"pszemraj/led-large-book-summary\"\n",
    "tokenizer = LEDTokenizer.from_pretrained(model_name)\n",
    "model = LEDForConditionalGeneration.from_pretrained(model_name)"
   ]
  },
  {
   "cell_type": "code",
   "execution_count": 4,
   "id": "5de41767",
   "metadata": {},
   "outputs": [
    {
     "name": "stdout",
     "output_type": "stream",
     "text": [
      "In this video, the guys do a dissection of a desktop computer using 3D animation. To make this video they disassembled all the hardware inside a typical desktop computer, took thousands of pictures, and then 3D modeled every single component from the computer case down to the tiniest resistor. This is what we will explore throughout the video. It kind of looks like a crime scene where someone viciously destroyed a\n"
     ]
    }
   ],
   "source": [
    "def generate_summary(text):\n",
    "    inputs = tokenizer.encode(text, padding=\"max_length\", truncation=True, max_length=4096, return_tensors=\"pt\")\n",
    "    summary_ids = model.generate(inputs, max_length=512, num_beams=5, early_stopping=True)\n",
    "    summary = tokenizer.decode(summary_ids[0], skip_special_tokens=True)\n",
    "    return summary\n",
    "\n",
    "# 5. Test the model:\n",
    "\n",
    "text = \"Throughout this video we’re going to do a desktop computer dissection using 3D animation.  Kind of like a dissection lab in biology class, but instead, we’ll journey through the inside of this computer and disassemble every piece of hardware.  We’ll then use a microscope and zoom in to give you a nanoscopic view of the transistors and other structures inside.  To make this video we disassembled all the hardware inside a typical desktop computer, we desoldered and removed the components from each of the printed circuit boards and took thousands of pictures.  Then using these pictures, we meticulously 3D modeled every single component from the computer case down to the tiniest resistor.  As a result, here’s all the hardware that we’ll explore throughout this video.  It kind of looks like a crime scene where someone viciously destroyed a\"\n",
    "summary = generate_summary(text)\n",
    "print(summary)\n"
   ]
  },
  {
   "cell_type": "code",
   "execution_count": null,
   "id": "b8680374",
   "metadata": {},
   "outputs": [],
   "source": []
  }
 ],
 "metadata": {
  "kernelspec": {
   "display_name": "Python 3 (ipykernel)",
   "language": "python",
   "name": "python3"
  },
  "language_info": {
   "codemirror_mode": {
    "name": "ipython",
    "version": 3
   },
   "file_extension": ".py",
   "mimetype": "text/x-python",
   "name": "python",
   "nbconvert_exporter": "python",
   "pygments_lexer": "ipython3",
   "version": "3.9.13"
  }
 },
 "nbformat": 4,
 "nbformat_minor": 5
}
