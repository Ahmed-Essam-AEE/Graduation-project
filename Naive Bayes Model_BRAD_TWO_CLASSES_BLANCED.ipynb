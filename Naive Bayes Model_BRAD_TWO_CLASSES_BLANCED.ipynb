{
 "cells": [
  {
   "cell_type": "markdown",
   "id": "29a8c2fd",
   "metadata": {},
   "source": [
    "# Import libraries "
   ]
  },
  {
   "cell_type": "code",
   "execution_count": 1,
   "id": "74464411",
   "metadata": {
    "scrolled": false
   },
   "outputs": [
    {
     "name": "stderr",
     "output_type": "stream",
     "text": [
      "[nltk_data] Downloading package stopwords to\n",
      "[nltk_data]     C:\\Users\\hp\\AppData\\Roaming\\nltk_data...\n",
      "[nltk_data]   Package stopwords is already up-to-date!\n",
      "[nltk_data] Downloading package punkt to\n",
      "[nltk_data]     C:\\Users\\hp\\AppData\\Roaming\\nltk_data...\n",
      "[nltk_data]   Package punkt is already up-to-date!\n"
     ]
    },
    {
     "data": {
      "text/plain": [
       "<Figure size 640x480 with 0 Axes>"
      ]
     },
     "metadata": {},
     "output_type": "display_data"
    }
   ],
   "source": [
    "#Libraries for general purpose\n",
    "import pandas as pd\n",
    "import numpy as np\n",
    "import matplotlib.pyplot as plt\n",
    "import seaborn as sns\n",
    "\n",
    "#Text cleaning\n",
    "import re, string\n",
    "import nltk\n",
    "nltk.download('stopwords')\n",
    "import scapy\n",
    "from nltk.corpus import stopwords\n",
    "from nltk.stem.isri import ISRIStemmer\n",
    "import pyarabic.araby as araby\n",
    "from textblob import TextBlob\n",
    "\n",
    "#Data preprocessing\n",
    "from sklearn import preprocessing\n",
    "from sklearn.model_selection import train_test_split\n",
    "\n",
    "\n",
    "#transformers\n",
    "\n",
    "#PyTorch LSTM\n",
    "import torch\n",
    "import torch.nn as nn\n",
    "import torch.nn.functional as F\n",
    "from torch.utils.data import TensorDataset, DataLoader, RandomSampler, SequentialSampler\n",
    "\n",
    "#Tokenization for LSTM\n",
    "from collections import Counter\n",
    "from gensim.models import Word2Vec\n",
    "\n",
    "from sklearn.metrics import classification_report, confusion_matrix\n",
    "\n",
    "#Seed for reproducibility\n",
    "import random\n",
    "\n",
    "seed_value=42\n",
    "random.seed(seed_value)\n",
    "np.random.seed(seed_value)\n",
    "torch.manual_seed(seed_value)\n",
    "torch.cuda.manual_seed_all(seed_value)\n",
    "\n",
    "import time\n",
    "\n",
    "#set style for plots\n",
    "sns.set_style(\"whitegrid\")\n",
    "sns.despine()\n",
    "plt.style.use(\"seaborn-whitegrid\")\n",
    "plt.rc(\"figure\", autolayout=True)\n",
    "plt.rc(\"axes\", labelweight=\"bold\", labelsize=\"large\", titleweight=\"bold\", titlepad=10)\n",
    "\n",
    "#os and warnings\n",
    "import os\n",
    "import random\n",
    "import warnings\n",
    "os.environ['KMP_DUPLICATE_LIB_OK']='True'\n",
    "warnings.filterwarnings('ignore')\n",
    "nltk.download('punkt')\n",
    "\n",
    "#Naive Bayes\n",
    "from sklearn.feature_extraction.text import CountVectorizer\n",
    "from sklearn.feature_extraction.text import TfidfTransformer\n",
    "from sklearn.naive_bayes import MultinomialNB\n",
    "\n",
    "from tqdm import tqdm_notebook as tqdm\n",
    "from sklearn.model_selection import train_test_split\n",
    "from sklearn.metrics import classification_report, accuracy_score, f1_score, confusion_matrix, precision_score , recall_score\n",
    "from torch.utils.data import Dataset\n",
    "from torch.utils.data import DataLoader\n",
    "from sklearn.utils import resample\n",
    "\n",
    "import logging\n",
    "\n",
    "logging.basicConfig(level=logging.WARNING)\n",
    "logger = logging.getLogger(__name__)"
   ]
  },
  {
   "cell_type": "markdown",
   "id": "3d7d0228",
   "metadata": {},
   "source": [
    "# Load Data"
   ]
  },
  {
   "cell_type": "code",
   "execution_count": 2,
   "id": "9519e7e4",
   "metadata": {},
   "outputs": [
    {
     "data": {
      "text/html": [
       "<div>\n",
       "<style scoped>\n",
       "    .dataframe tbody tr th:only-of-type {\n",
       "        vertical-align: middle;\n",
       "    }\n",
       "\n",
       "    .dataframe tbody tr th {\n",
       "        vertical-align: top;\n",
       "    }\n",
       "\n",
       "    .dataframe thead th {\n",
       "        text-align: right;\n",
       "    }\n",
       "</style>\n",
       "<table border=\"1\" class=\"dataframe\">\n",
       "  <thead>\n",
       "    <tr style=\"text-align: right;\">\n",
       "      <th></th>\n",
       "      <th>label</th>\n",
       "      <th>sentence</th>\n",
       "    </tr>\n",
       "  </thead>\n",
       "  <tbody>\n",
       "    <tr>\n",
       "      <th>0</th>\n",
       "      <td>5</td>\n",
       "      <td>كتاب رائع. اعتقد ان الروايه كلها تلخصت بجمله و...</td>\n",
       "    </tr>\n",
       "    <tr>\n",
       "      <th>1</th>\n",
       "      <td>4</td>\n",
       "      <td>رواية تلامس الروح بعمقها، فخورة اني اخيرا لقيت...</td>\n",
       "    </tr>\n",
       "    <tr>\n",
       "      <th>2</th>\n",
       "      <td>5</td>\n",
       "      <td>رواية محكمة بكل اختصار. وكان الجزء المفضل بالن...</td>\n",
       "    </tr>\n",
       "    <tr>\n",
       "      <th>3</th>\n",
       "      <td>3</td>\n",
       "      <td>هذا الكتاب يحزن مرا، ظلم واضطهاد عيسى بلا ذنب ...</td>\n",
       "    </tr>\n",
       "    <tr>\n",
       "      <th>4</th>\n",
       "      <td>4</td>\n",
       "      <td>رواية واقعية ورائعة تمثل أحداث تكررت كثيرا في ...</td>\n",
       "    </tr>\n",
       "  </tbody>\n",
       "</table>\n",
       "</div>"
      ],
      "text/plain": [
       "   label                                           sentence\n",
       "0      5  كتاب رائع. اعتقد ان الروايه كلها تلخصت بجمله و...\n",
       "1      4  رواية تلامس الروح بعمقها، فخورة اني اخيرا لقيت...\n",
       "2      5  رواية محكمة بكل اختصار. وكان الجزء المفضل بالن...\n",
       "3      3  هذا الكتاب يحزن مرا، ظلم واضطهاد عيسى بلا ذنب ...\n",
       "4      4  رواية واقعية ورائعة تمثل أحداث تكررت كثيرا في ..."
      ]
     },
     "execution_count": 2,
     "metadata": {},
     "output_type": "execute_result"
    }
   ],
   "source": [
    "df = pd.read_csv(\"BRAD.tsv\",sep='\\t')\n",
    "df.columns = ['label' , 'ID1' , 'ID2' , 'ID3' , 'sentence']\n",
    "cleaned = df.drop(['ID1' , 'ID2' , 'ID3'], axis=1)\n",
    "cleaned.head()"
   ]
  },
  {
   "cell_type": "markdown",
   "id": "dbfddc43",
   "metadata": {},
   "source": [
    "# Preprocessing and text Cleaning"
   ]
  },
  {
   "cell_type": "code",
   "execution_count": 3,
   "id": "a4ff2f20",
   "metadata": {},
   "outputs": [],
   "source": [
    "def mark_sentiment(rating):\n",
    "    if(rating<3):\n",
    "        return 0\n",
    "    else:\n",
    "        return 1"
   ]
  },
  {
   "cell_type": "code",
   "execution_count": 4,
   "id": "8b6b03e5",
   "metadata": {},
   "outputs": [
    {
     "data": {
      "text/html": [
       "<div>\n",
       "<style scoped>\n",
       "    .dataframe tbody tr th:only-of-type {\n",
       "        vertical-align: middle;\n",
       "    }\n",
       "\n",
       "    .dataframe tbody tr th {\n",
       "        vertical-align: top;\n",
       "    }\n",
       "\n",
       "    .dataframe thead th {\n",
       "        text-align: right;\n",
       "    }\n",
       "</style>\n",
       "<table border=\"1\" class=\"dataframe\">\n",
       "  <thead>\n",
       "    <tr style=\"text-align: right;\">\n",
       "      <th></th>\n",
       "      <th>label</th>\n",
       "      <th>sentence</th>\n",
       "    </tr>\n",
       "  </thead>\n",
       "  <tbody>\n",
       "    <tr>\n",
       "      <th>0</th>\n",
       "      <td>1</td>\n",
       "      <td>كتاب رائع. اعتقد ان الروايه كلها تلخصت بجمله و...</td>\n",
       "    </tr>\n",
       "    <tr>\n",
       "      <th>1</th>\n",
       "      <td>1</td>\n",
       "      <td>رواية تلامس الروح بعمقها، فخورة اني اخيرا لقيت...</td>\n",
       "    </tr>\n",
       "    <tr>\n",
       "      <th>2</th>\n",
       "      <td>1</td>\n",
       "      <td>رواية محكمة بكل اختصار. وكان الجزء المفضل بالن...</td>\n",
       "    </tr>\n",
       "    <tr>\n",
       "      <th>3</th>\n",
       "      <td>1</td>\n",
       "      <td>هذا الكتاب يحزن مرا، ظلم واضطهاد عيسى بلا ذنب ...</td>\n",
       "    </tr>\n",
       "    <tr>\n",
       "      <th>4</th>\n",
       "      <td>1</td>\n",
       "      <td>رواية واقعية ورائعة تمثل أحداث تكررت كثيرا في ...</td>\n",
       "    </tr>\n",
       "  </tbody>\n",
       "</table>\n",
       "</div>"
      ],
      "text/plain": [
       "   label                                           sentence\n",
       "0      1  كتاب رائع. اعتقد ان الروايه كلها تلخصت بجمله و...\n",
       "1      1  رواية تلامس الروح بعمقها، فخورة اني اخيرا لقيت...\n",
       "2      1  رواية محكمة بكل اختصار. وكان الجزء المفضل بالن...\n",
       "3      1  هذا الكتاب يحزن مرا، ظلم واضطهاد عيسى بلا ذنب ...\n",
       "4      1  رواية واقعية ورائعة تمثل أحداث تكررت كثيرا في ..."
      ]
     },
     "execution_count": 4,
     "metadata": {},
     "output_type": "execute_result"
    }
   ],
   "source": [
    "cleaned['label'] = cleaned['label'].apply(lambda x:mark_sentiment(x))\n",
    "cleaned.head()"
   ]
  },
  {
   "cell_type": "code",
   "execution_count": 5,
   "id": "63ee04bb",
   "metadata": {},
   "outputs": [],
   "source": [
    "stops = set(stopwords.words(\"arabic\"))\n",
    "stop_word_comp = {\"،\",\"آض\",\"آمينَ\",\"آه\",\"آهاً\",\"آي\",\"أ\",\"أب\",\"أجل\",\"أجمع\",\"أخ\",\"أخذ\",\"أصبح\",\"أضحى\",\"أقبل\",\"أقل\",\"أكثر\",\"ألا\",\"أم\",\"أما\",\"أمامك\",\"أمامكَ\",\"أمسى\",\"أمّا\",\"أن\",\"أنا\",\"أنت\",\"أنتم\",\"أنتما\",\"أنتن\",\"أنتِ\",\"أنشأ\",\"أنّى\",\"أو\",\"أوشك\",\"أولئك\",\"أولئكم\",\"أولاء\",\"أولالك\",\"أوّهْ\",\"أي\",\"أيا\",\"أين\",\"أينما\",\"أيّ\",\"أَنَّ\",\"أََيُّ\",\"أُفٍّ\",\"إذ\",\"إذا\",\"إذاً\",\"إذما\",\"إذن\",\"إلى\",\"إليكم\",\"إليكما\",\"إليكنّ\",\"إليكَ\",\"إلَيْكَ\",\"إلّا\",\"إمّا\",\"إن\",\"إنّما\",\"إي\",\"إياك\",\"إياكم\",\"إياكما\",\"إياكن\",\"إيانا\",\"إياه\",\"إياها\",\"إياهم\",\"إياهما\",\"إياهن\",\"إياي\",\"إيهٍ\",\"إِنَّ\",\"ا\",\"ابتدأ\",\"اثر\",\"اجل\",\"احد\",\"اخرى\",\"اخلولق\",\"اذا\",\"اربعة\",\"ارتدّ\",\"استحال\",\"اطار\",\"اعادة\",\"اعلنت\",\"اف\",\"اكثر\",\"اكد\",\"الألاء\",\"الألى\",\"الا\",\"الاخيرة\",\"الان\",\"الاول\",\"الاولى\",\"التى\",\"التي\",\"الثاني\",\"الثانية\",\"الذاتي\",\"الذى\",\"الذي\",\"الذين\",\"السابق\",\"الف\",\"اللائي\",\"اللاتي\",\"اللتان\",\"اللتيا\",\"اللتين\",\"اللذان\",\"اللذين\",\"اللواتي\",\"الماضي\",\"المقبل\",\"الوقت\",\"الى\",\"اليوم\",\"اما\",\"امام\",\"امس\",\"ان\",\"انبرى\",\"انقلب\",\"انه\",\"انها\",\"او\",\"اول\",\"اي\",\"ايار\",\"ايام\",\"ايضا\",\"ب\",\"بات\",\"باسم\",\"بان\",\"بخٍ\",\"برس\",\"بسبب\",\"بسّ\",\"بشكل\",\"بضع\",\"بطآن\",\"بعد\",\"بعض\",\"بك\",\"بكم\",\"بكما\",\"بكن\",\"بل\",\"بلى\",\"بما\",\"بماذا\",\"بمن\",\"بن\",\"بنا\",\"به\",\"بها\",\"بي\",\"بيد\",\"بين\",\"بَسْ\",\"بَلْهَ\",\"بِئْسَ\",\"تانِ\",\"تانِك\",\"تبدّل\",\"تجاه\",\"تحوّل\",\"تلقاء\",\"تلك\",\"تلكم\",\"تلكما\",\"تم\",\"تينك\",\"تَيْنِ\",\"تِه\",\"تِي\",\"ثلاثة\",\"ثم\",\"ثمّ\",\"ثمّة\",\"ثُمَّ\",\"جعل\",\"جلل\",\"جميع\",\"جير\",\"حار\",\"حاشا\",\"حاليا\",\"حاي\",\"حتى\",\"حرى\",\"حسب\",\"حم\",\"حوالى\",\"حول\",\"حيث\",\"حيثما\",\"حين\",\"حيَّ\",\"حَبَّذَا\",\"حَتَّى\",\"حَذارِ\",\"خلا\",\"خلال\",\"دون\",\"دونك\",\"ذا\",\"ذات\",\"ذاك\",\"ذانك\",\"ذانِ\",\"ذلك\",\"ذلكم\",\"ذلكما\",\"ذلكن\",\"ذو\",\"ذوا\",\"ذواتا\",\"ذواتي\",\"ذيت\",\"ذينك\",\"ذَيْنِ\",\"ذِه\",\"ذِي\",\"راح\",\"رجع\",\"رويدك\",\"ريث\",\"رُبَّ\",\"زيارة\",\"سبحان\",\"سرعان\",\"سنة\",\"سنوات\",\"سوف\",\"سوى\",\"سَاءَ\",\"سَاءَمَا\",\"شبه\",\"شخصا\",\"شرع\",\"شَتَّانَ\",\"صار\",\"صباح\",\"صفر\",\"صهٍ\",\"صهْ\",\"ضد\",\"ضمن\",\"طاق\",\"طالما\",\"طفق\",\"طَق\",\"ظلّ\",\"عاد\",\"عام\",\"عاما\",\"عامة\",\"عدا\",\"عدة\",\"عدد\",\"عدم\",\"عسى\",\"عشر\",\"عشرة\",\"علق\",\"على\",\"عليك\",\"عليه\",\"عليها\",\"علًّ\",\"عن\",\"عند\",\"عندما\",\"عوض\",\"عين\",\"عَدَسْ\",\"عَمَّا\",\"غدا\",\"غير\",\"ـ\",\"ف\",\"فان\",\"فلان\",\"فو\",\"فى\",\"في\",\"فيم\",\"فيما\",\"فيه\",\"فيها\",\"قال\",\"قام\",\"قبل\",\"قد\",\"قطّ\",\"قلما\",\"قوة\",\"كأنّما\",\"كأين\",\"كأيّ\",\"كأيّن\",\"كاد\",\"كان\",\"كانت\",\"كذا\",\"كذلك\",\"كرب\",\"كل\",\"كلا\",\"كلاهما\",\"كلتا\",\"كلم\",\"كليكما\",\"كليهما\",\"كلّما\",\"كلَّا\",\"كم\",\"كما\",\"كي\",\"كيت\",\"كيف\",\"كيفما\",\"كَأَنَّ\",\"كِخ\",\"لئن\",\"لا\",\"لات\",\"لاسيما\",\"لدن\",\"لدى\",\"لعمر\",\"لقاء\",\"لك\",\"لكم\",\"لكما\",\"لكن\",\"لكنَّما\",\"لكي\",\"لكيلا\",\"للامم\",\"لم\",\"لما\",\"لمّا\",\"لن\",\"لنا\",\"له\",\"لها\",\"لو\",\"لوكالة\",\"لولا\",\"لوما\",\"لي\",\"لَسْتَ\",\"لَسْتُ\",\"لَسْتُم\",\"لَسْتُمَا\",\"لَسْتُنَّ\",\"لَسْتِ\",\"لَسْنَ\",\"لَعَلَّ\",\"لَكِنَّ\",\"لَيْتَ\",\"لَيْسَ\",\"لَيْسَا\",\"لَيْسَتَا\",\"لَيْسَتْ\",\"لَيْسُوا\",\"لَِسْنَا\",\"ما\",\"ماانفك\",\"مابرح\",\"مادام\",\"ماذا\",\"مازال\",\"مافتئ\",\"مايو\",\"متى\",\"مثل\",\"مذ\",\"مساء\",\"مع\",\"معاذ\",\"مقابل\",\"مكانكم\",\"مكانكما\",\"مكانكنّ\",\"مكانَك\",\"مليار\",\"مليون\",\"مما\",\"ممن\",\"من\",\"منذ\",\"منها\",\"مه\",\"مهما\",\"مَنْ\",\"مِن\",\"نحن\",\"نحو\",\"نعم\",\"نفس\",\"نفسه\",\"نهاية\",\"نَخْ\",\"نِعِمّا\",\"نِعْمَ\",\"ها\",\"هاؤم\",\"هاكَ\",\"هاهنا\",\"هبّ\",\"هذا\",\"هذه\",\"هكذا\",\"هل\",\"هلمَّ\",\"هلّا\",\"هم\",\"هما\",\"هن\",\"هنا\",\"هناك\",\"هنالك\",\"هو\",\"هي\",\"هيا\",\"هيت\",\"هيّا\",\"هَؤلاء\",\"هَاتانِ\",\"هَاتَيْنِ\",\"هَاتِه\",\"هَاتِي\",\"هَجْ\",\"هَذا\",\"هَذانِ\",\"هَذَيْنِ\",\"هَذِه\",\"هَذِي\",\"هَيْهَاتَ\",\"و\",\"و6\",\"وا\",\"واحد\",\"واضاف\",\"واضافت\",\"واكد\",\"وان\",\"واهاً\",\"واوضح\",\"وراءَك\",\"وفي\",\"وقال\",\"وقالت\",\"وقد\",\"وقف\",\"وكان\",\"وكانت\",\"ولا\",\"ولم\",\"ومن\",\"مَن\",\"وهو\",\"وهي\",\"ويكأنّ\",\"وَيْ\",\"وُشْكَانََ\",\"يكون\",\"يمكن\",\"يوم\",\"كان\",\"ّأيّان\"}"
   ]
  },
  {
   "cell_type": "code",
   "execution_count": 6,
   "id": "f6fa7e63",
   "metadata": {},
   "outputs": [
    {
     "data": {
      "text/plain": [
       "'كتب رئع عقد ان ريه كله لخص جمل'"
      ]
     },
     "execution_count": 6,
     "metadata": {},
     "output_type": "execute_result"
    }
   ],
   "source": [
    "st = ISRIStemmer()\n",
    "def stemNLTK(text):\n",
    "    # tokenize\n",
    "    zen = TextBlob(text)\n",
    "    words = zen.words\n",
    "    cleaned = list()\n",
    "    for w in words:\n",
    "        ty = st.stem(w)\n",
    "        cleaned.append(ty)\n",
    "    return \" \".join(cleaned)\n",
    "\n",
    "stemNLTK(\"كتاب رائع. اعتقد ان الروايه كلها تلخصت بجمله \")"
   ]
  },
  {
   "cell_type": "code",
   "execution_count": 7,
   "id": "c8d27951",
   "metadata": {},
   "outputs": [
    {
     "data": {
      "text/plain": [
       "'مرت اوان العيد بين نواهد مثل الشموس لحاظهن ظباء'"
      ]
     },
     "execution_count": 7,
     "metadata": {},
     "output_type": "execute_result"
    }
   ],
   "source": [
    "def normalizeArabic(text):\n",
    "    text = text.strip()\n",
    "    text = re.sub(\"[إأٱآا]\", \"ا\", text)\n",
    "    text = re.sub(\"ى\", \"ي\", text)\n",
    "    text = re.sub(\"ؤ\", \"ء\", text)\n",
    "    text = re.sub(\"ئ\", \"ء\", text)\n",
    "    text = re.sub(\"ة\", \"ه\", text)\n",
    "    noise = re.compile(\"\"\" ّ    | # Tashdid\n",
    "                             َ    | # Fatha\n",
    "                             ً    | # Tanwin Fath\n",
    "                             ُ    | # Damma\n",
    "                             ٌ    | # Tanwin Damm\n",
    "                             ِ    | # Kasra\n",
    "                             ٍ    | # Tanwin Kasr\n",
    "                             ْ    | # Sukun\n",
    "                             ـ     # Tatwil/Kashida\n",
    "                         \"\"\", re.VERBOSE)\n",
    "    text = re.sub(noise, '', text)\n",
    "    text = re.sub(r'(.)\\1+', r\"\\1\\1\", text) # Remove longation\n",
    "    return araby.strip_tashkeel(text)\n",
    "\n",
    "normalizeArabic(\"مَرَّتْ أوَانَ العِيدِ بَيْنَ نَوَاهِدٍ مِثْلِ الشُّمُوسِ لِحَاظُهُنَّ ظِبَاء\")"
   ]
  },
  {
   "cell_type": "code",
   "execution_count": 8,
   "id": "81d0a5f9",
   "metadata": {},
   "outputs": [
    {
     "data": {
      "text/plain": [
       "'مرت اوان العيد نواهد الشموس لحاظهن ظباء'"
      ]
     },
     "execution_count": 8,
     "metadata": {},
     "output_type": "execute_result"
    }
   ],
   "source": [
    "def remove_stop_words(text):\n",
    "    zen = TextBlob(text)\n",
    "    words = zen.words\n",
    "    return \" \".join([w for w in words if not w in stops and not w in stop_word_comp and len(w) >= 2])\n",
    "\n",
    "remove_stop_words(\"مرت اوان العيد بين نواهد مثل الشموس لحاظهن ظباء\")"
   ]
  },
  {
   "cell_type": "code",
   "execution_count": 9,
   "id": "f879a0ce",
   "metadata": {},
   "outputs": [],
   "source": [
    "def clean_text(text):\n",
    "    ## Remove punctuations\n",
    "    text = re.sub('[%s]' % re.escape(\"\"\"!\"#$%&'()*+,،-./:;<=>؟?@[\\]^_`{|}~\"\"\"), ' ', text)  # remove punctuation\n",
    "    ## remove extra whitespace\n",
    "    text = re.sub('\\s+', ' ', text)\n",
    "    ## Convert text to lowercases\n",
    "    text = text.lower()\n",
    "    ## Remove stop words\n",
    "    text = remove_stop_words(text)\n",
    "    ## Remove numbers\n",
    "    text = re.sub(\"\\d+\", \" \", text)\n",
    "    ## Remove Tashkeel\n",
    "    text = normalizeArabic(text)\n",
    "    #text = re.sub('\\W+', ' ', text)\n",
    "    text = re.sub('[A-Za-z]+',' ',text)\n",
    "    text = re.sub(r'\\\\u[A-Za-z0-9\\\\]+',' ',text)\n",
    "    ## remove extra whitespace\n",
    "    text = re.sub('\\s+', ' ', text)\n",
    "    #Stemming\n",
    "    text = stemNLTK(text)\n",
    "    return text"
   ]
  },
  {
   "cell_type": "code",
   "execution_count": 10,
   "id": "8e8db66f",
   "metadata": {},
   "outputs": [
    {
     "name": "stdout",
     "output_type": "stream",
     "text": [
      "Wall time: 0 ns\n"
     ]
    },
    {
     "data": {
      "text/html": [
       "<div>\n",
       "<style scoped>\n",
       "    .dataframe tbody tr th:only-of-type {\n",
       "        vertical-align: middle;\n",
       "    }\n",
       "\n",
       "    .dataframe tbody tr th {\n",
       "        vertical-align: top;\n",
       "    }\n",
       "\n",
       "    .dataframe thead th {\n",
       "        text-align: right;\n",
       "    }\n",
       "</style>\n",
       "<table border=\"1\" class=\"dataframe\">\n",
       "  <thead>\n",
       "    <tr style=\"text-align: right;\">\n",
       "      <th></th>\n",
       "      <th>label</th>\n",
       "      <th>sentence</th>\n",
       "    </tr>\n",
       "  </thead>\n",
       "  <tbody>\n",
       "    <tr>\n",
       "      <th>0</th>\n",
       "      <td>1</td>\n",
       "      <td>كتب رءع عقد ريه كله لخص جمل وحد عطء حب قيم</td>\n",
       "    </tr>\n",
       "    <tr>\n",
       "      <th>1</th>\n",
       "      <td>1</td>\n",
       "      <td>ريه لمس روح عمق فخر اني اخر لقت ريه عرب كتب به...</td>\n",
       "    </tr>\n",
       "    <tr>\n",
       "      <th>2</th>\n",
       "      <td>1</td>\n",
       "      <td>ريه حكم بكل خصر جزء فضل نسب وصف كتب حيه عيس فل...</td>\n",
       "    </tr>\n",
       "    <tr>\n",
       "      <th>3</th>\n",
       "      <td>1</td>\n",
       "      <td>كتب يحز مرا ظلم ضطهاد عيس بلا ذنب فصل كتب خلف ...</td>\n",
       "    </tr>\n",
       "    <tr>\n",
       "      <th>4</th>\n",
       "      <td>1</td>\n",
       "      <td>ريه وقع رءع مثل حدث كرر جمع خلج ونا تثر لني عش...</td>\n",
       "    </tr>\n",
       "  </tbody>\n",
       "</table>\n",
       "</div>"
      ],
      "text/plain": [
       "   label                                           sentence\n",
       "0      1         كتب رءع عقد ريه كله لخص جمل وحد عطء حب قيم\n",
       "1      1  ريه لمس روح عمق فخر اني اخر لقت ريه عرب كتب به...\n",
       "2      1  ريه حكم بكل خصر جزء فضل نسب وصف كتب حيه عيس فل...\n",
       "3      1  كتب يحز مرا ظلم ضطهاد عيس بلا ذنب فصل كتب خلف ...\n",
       "4      1  ريه وقع رءع مثل حدث كرر جمع خلج ونا تثر لني عش..."
      ]
     },
     "execution_count": 10,
     "metadata": {},
     "output_type": "execute_result"
    }
   ],
   "source": [
    "%time\n",
    "cleaned['sentence'] = cleaned['sentence'].apply(lambda x:clean_text(x))\n",
    "cleaned.head()"
   ]
  },
  {
   "cell_type": "code",
   "execution_count": 11,
   "id": "19e2fa65",
   "metadata": {},
   "outputs": [
    {
     "data": {
      "text/plain": [
       "15022"
      ]
     },
     "execution_count": 11,
     "metadata": {},
     "output_type": "execute_result"
    }
   ],
   "source": [
    "cleaned['sentence'].duplicated().sum()"
   ]
  },
  {
   "cell_type": "code",
   "execution_count": 12,
   "id": "689b2583",
   "metadata": {},
   "outputs": [],
   "source": [
    "cleaned.drop_duplicates(\"sentence\", inplace=True)\n",
    "data = cleaned"
   ]
  },
  {
   "cell_type": "markdown",
   "id": "8e0e8cc5",
   "metadata": {},
   "source": [
    "# Balancing Data Classes"
   ]
  },
  {
   "cell_type": "code",
   "execution_count": 13,
   "id": "95bcf1b2",
   "metadata": {},
   "outputs": [
    {
     "data": {
      "text/plain": [
       "1    419273\n",
       "0     76303\n",
       "Name: label, dtype: int64"
      ]
     },
     "execution_count": 13,
     "metadata": {},
     "output_type": "execute_result"
    }
   ],
   "source": [
    "data.label.value_counts()"
   ]
  },
  {
   "cell_type": "code",
   "execution_count": 14,
   "id": "a3c345c1",
   "metadata": {},
   "outputs": [
    {
     "data": {
      "text/plain": [
       "<AxesSubplot:xlabel='label', ylabel='count'>"
      ]
     },
     "execution_count": 14,
     "metadata": {},
     "output_type": "execute_result"
    },
    {
     "data": {
      "image/png": "[encoded data removed]",
      "text/plain": [
       "<Figure size 640x480 with 1 Axes>"
      ]
     },
     "metadata": {},
     "output_type": "display_data"
    }
   ],
   "source": [
    "sns.countplot(x=data[\"label\"])"
   ]
  },
  {
   "cell_type": "code",
   "execution_count": 15,
   "id": "1d455a6e",
   "metadata": {
    "scrolled": true
   },
   "outputs": [],
   "source": [
    "datasetNeg , datasetPos, = (g for _,g in data.groupby('label'))"
   ]
  },
  {
   "cell_type": "code",
   "execution_count": 16,
   "id": "5d18bafa",
   "metadata": {},
   "outputs": [
    {
     "name": "stdout",
     "output_type": "stream",
     "text": [
      "(76303, 2)\n"
     ]
    },
    {
     "data": {
      "text/html": [
       "<div>\n",
       "<style scoped>\n",
       "    .dataframe tbody tr th:only-of-type {\n",
       "        vertical-align: middle;\n",
       "    }\n",
       "\n",
       "    .dataframe tbody tr th {\n",
       "        vertical-align: top;\n",
       "    }\n",
       "\n",
       "    .dataframe thead th {\n",
       "        text-align: right;\n",
       "    }\n",
       "</style>\n",
       "<table border=\"1\" class=\"dataframe\">\n",
       "  <thead>\n",
       "    <tr style=\"text-align: right;\">\n",
       "      <th></th>\n",
       "      <th>label</th>\n",
       "      <th>sentence</th>\n",
       "    </tr>\n",
       "  </thead>\n",
       "  <tbody>\n",
       "    <tr>\n",
       "      <th>45</th>\n",
       "      <td>0</td>\n",
       "      <td>قرت فتر طول حضر عجب جنب انس مكن دخل ذكر اني شع...</td>\n",
       "    </tr>\n",
       "    <tr>\n",
       "      <th>47</th>\n",
       "      <td>0</td>\n",
       "      <td>نفس احب ريه دي غلب صدقاء الل قرو صفو بان مش رء...</td>\n",
       "    </tr>\n",
       "    <tr>\n",
       "      <th>67</th>\n",
       "      <td>0</td>\n",
       "      <td>عمل سلسل اجف سلسل اقر ريه حتر</td>\n",
       "    </tr>\n",
       "    <tr>\n",
       "      <th>70</th>\n",
       "      <td>0</td>\n",
       "      <td>لطف كنك فرج سلسل نوع لطف</td>\n",
       "    </tr>\n",
       "    <tr>\n",
       "      <th>72</th>\n",
       "      <td>0</td>\n",
       "      <td>ريه جمل حمل معا رسل كثر ارد كتب ورء يصل فكر تع...</td>\n",
       "    </tr>\n",
       "  </tbody>\n",
       "</table>\n",
       "</div>"
      ],
      "text/plain": [
       "    label                                           sentence\n",
       "45      0  قرت فتر طول حضر عجب جنب انس مكن دخل ذكر اني شع...\n",
       "47      0  نفس احب ريه دي غلب صدقاء الل قرو صفو بان مش رء...\n",
       "67      0                      عمل سلسل اجف سلسل اقر ريه حتر\n",
       "70      0                           لطف كنك فرج سلسل نوع لطف\n",
       "72      0  ريه جمل حمل معا رسل كثر ارد كتب ورء يصل فكر تع..."
      ]
     },
     "execution_count": 16,
     "metadata": {},
     "output_type": "execute_result"
    }
   ],
   "source": [
    "print(datasetNeg.shape)\n",
    "datasetNeg.head()"
   ]
  },
  {
   "cell_type": "code",
   "execution_count": 17,
   "id": "f8f300f8",
   "metadata": {},
   "outputs": [
    {
     "name": "stdout",
     "output_type": "stream",
     "text": [
      "(419273, 2)\n"
     ]
    },
    {
     "data": {
      "text/html": [
       "<div>\n",
       "<style scoped>\n",
       "    .dataframe tbody tr th:only-of-type {\n",
       "        vertical-align: middle;\n",
       "    }\n",
       "\n",
       "    .dataframe tbody tr th {\n",
       "        vertical-align: top;\n",
       "    }\n",
       "\n",
       "    .dataframe thead th {\n",
       "        text-align: right;\n",
       "    }\n",
       "</style>\n",
       "<table border=\"1\" class=\"dataframe\">\n",
       "  <thead>\n",
       "    <tr style=\"text-align: right;\">\n",
       "      <th></th>\n",
       "      <th>label</th>\n",
       "      <th>sentence</th>\n",
       "    </tr>\n",
       "  </thead>\n",
       "  <tbody>\n",
       "    <tr>\n",
       "      <th>0</th>\n",
       "      <td>1</td>\n",
       "      <td>كتب رءع عقد ريه كله لخص جمل وحد عطء حب قيم</td>\n",
       "    </tr>\n",
       "    <tr>\n",
       "      <th>1</th>\n",
       "      <td>1</td>\n",
       "      <td>ريه لمس روح عمق فخر اني اخر لقت ريه عرب كتب به...</td>\n",
       "    </tr>\n",
       "    <tr>\n",
       "      <th>2</th>\n",
       "      <td>1</td>\n",
       "      <td>ريه حكم بكل خصر جزء فضل نسب وصف كتب حيه عيس فل...</td>\n",
       "    </tr>\n",
       "    <tr>\n",
       "      <th>3</th>\n",
       "      <td>1</td>\n",
       "      <td>كتب يحز مرا ظلم ضطهاد عيس بلا ذنب فصل كتب خلف ...</td>\n",
       "    </tr>\n",
       "    <tr>\n",
       "      <th>4</th>\n",
       "      <td>1</td>\n",
       "      <td>ريه وقع رءع مثل حدث كرر جمع خلج ونا تثر لني عش...</td>\n",
       "    </tr>\n",
       "  </tbody>\n",
       "</table>\n",
       "</div>"
      ],
      "text/plain": [
       "   label                                           sentence\n",
       "0      1         كتب رءع عقد ريه كله لخص جمل وحد عطء حب قيم\n",
       "1      1  ريه لمس روح عمق فخر اني اخر لقت ريه عرب كتب به...\n",
       "2      1  ريه حكم بكل خصر جزء فضل نسب وصف كتب حيه عيس فل...\n",
       "3      1  كتب يحز مرا ظلم ضطهاد عيس بلا ذنب فصل كتب خلف ...\n",
       "4      1  ريه وقع رءع مثل حدث كرر جمع خلج ونا تثر لني عش..."
      ]
     },
     "execution_count": 17,
     "metadata": {},
     "output_type": "execute_result"
    }
   ],
   "source": [
    "print(datasetPos.shape)\n",
    "datasetPos.head()"
   ]
  },
  {
   "cell_type": "code",
   "execution_count": 18,
   "id": "325be743",
   "metadata": {},
   "outputs": [],
   "source": [
    "datasetPos = datasetPos.iloc[(419115 -76295 ) : ]"
   ]
  },
  {
   "cell_type": "code",
   "execution_count": 19,
   "id": "65d88ebc",
   "metadata": {},
   "outputs": [
    {
     "name": "stdout",
     "output_type": "stream",
     "text": [
      "(76453, 2)\n"
     ]
    },
    {
     "data": {
      "text/html": [
       "<div>\n",
       "<style scoped>\n",
       "    .dataframe tbody tr th:only-of-type {\n",
       "        vertical-align: middle;\n",
       "    }\n",
       "\n",
       "    .dataframe tbody tr th {\n",
       "        vertical-align: top;\n",
       "    }\n",
       "\n",
       "    .dataframe thead th {\n",
       "        text-align: right;\n",
       "    }\n",
       "</style>\n",
       "<table border=\"1\" class=\"dataframe\">\n",
       "  <thead>\n",
       "    <tr style=\"text-align: right;\">\n",
       "      <th></th>\n",
       "      <th>label</th>\n",
       "      <th>sentence</th>\n",
       "    </tr>\n",
       "  </thead>\n",
       "  <tbody>\n",
       "    <tr>\n",
       "      <th>416908</th>\n",
       "      <td>1</td>\n",
       "      <td>جمع قصص رهب درج اني خلص فكر رجع اقر مره ثني</td>\n",
       "    </tr>\n",
       "    <tr>\n",
       "      <th>416909</th>\n",
       "      <td>1</td>\n",
       "      <td>جمع قصص جمل بدع نجب نهي عنب ولو قصص اثر فيا حد...</td>\n",
       "    </tr>\n",
       "    <tr>\n",
       "      <th>416910</th>\n",
       "      <td>1</td>\n",
       "      <td>كتب اسم حكي بلا بدي خبر نهي بدي عظم روي خمس عك...</td>\n",
       "    </tr>\n",
       "    <tr>\n",
       "      <th>416911</th>\n",
       "      <td>1</td>\n",
       "      <td>جزء عبقر نجب حفظ صفح جمل حره عشق هوه روي حمد ر...</td>\n",
       "    </tr>\n",
       "    <tr>\n",
       "      <th>416912</th>\n",
       "      <td>1</td>\n",
       "      <td>عده نجب حفظ فضل كتب روي</td>\n",
       "    </tr>\n",
       "  </tbody>\n",
       "</table>\n",
       "</div>"
      ],
      "text/plain": [
       "        label                                           sentence\n",
       "416908      1        جمع قصص رهب درج اني خلص فكر رجع اقر مره ثني\n",
       "416909      1  جمع قصص جمل بدع نجب نهي عنب ولو قصص اثر فيا حد...\n",
       "416910      1  كتب اسم حكي بلا بدي خبر نهي بدي عظم روي خمس عك...\n",
       "416911      1  جزء عبقر نجب حفظ صفح جمل حره عشق هوه روي حمد ر...\n",
       "416912      1                            عده نجب حفظ فضل كتب روي"
      ]
     },
     "execution_count": 19,
     "metadata": {},
     "output_type": "execute_result"
    }
   ],
   "source": [
    "print(datasetPos.shape)\n",
    "datasetPos.head()"
   ]
  },
  {
   "cell_type": "code",
   "execution_count": 20,
   "id": "725e5350",
   "metadata": {},
   "outputs": [],
   "source": [
    "data = pd.concat([datasetPos,datasetNeg])"
   ]
  },
  {
   "cell_type": "code",
   "execution_count": 21,
   "id": "2199bbaa",
   "metadata": {},
   "outputs": [
    {
     "name": "stdout",
     "output_type": "stream",
     "text": [
      "(152756, 2)\n"
     ]
    },
    {
     "data": {
      "text/html": [
       "<div>\n",
       "<style scoped>\n",
       "    .dataframe tbody tr th:only-of-type {\n",
       "        vertical-align: middle;\n",
       "    }\n",
       "\n",
       "    .dataframe tbody tr th {\n",
       "        vertical-align: top;\n",
       "    }\n",
       "\n",
       "    .dataframe thead th {\n",
       "        text-align: right;\n",
       "    }\n",
       "</style>\n",
       "<table border=\"1\" class=\"dataframe\">\n",
       "  <thead>\n",
       "    <tr style=\"text-align: right;\">\n",
       "      <th></th>\n",
       "      <th>label</th>\n",
       "      <th>sentence</th>\n",
       "    </tr>\n",
       "  </thead>\n",
       "  <tbody>\n",
       "    <tr>\n",
       "      <th>416908</th>\n",
       "      <td>1</td>\n",
       "      <td>جمع قصص رهب درج اني خلص فكر رجع اقر مره ثني</td>\n",
       "    </tr>\n",
       "    <tr>\n",
       "      <th>416909</th>\n",
       "      <td>1</td>\n",
       "      <td>جمع قصص جمل بدع نجب نهي عنب ولو قصص اثر فيا حد...</td>\n",
       "    </tr>\n",
       "    <tr>\n",
       "      <th>416910</th>\n",
       "      <td>1</td>\n",
       "      <td>كتب اسم حكي بلا بدي خبر نهي بدي عظم روي خمس عك...</td>\n",
       "    </tr>\n",
       "    <tr>\n",
       "      <th>416911</th>\n",
       "      <td>1</td>\n",
       "      <td>جزء عبقر نجب حفظ صفح جمل حره عشق هوه روي حمد ر...</td>\n",
       "    </tr>\n",
       "    <tr>\n",
       "      <th>416912</th>\n",
       "      <td>1</td>\n",
       "      <td>عده نجب حفظ فضل كتب روي</td>\n",
       "    </tr>\n",
       "  </tbody>\n",
       "</table>\n",
       "</div>"
      ],
      "text/plain": [
       "        label                                           sentence\n",
       "416908      1        جمع قصص رهب درج اني خلص فكر رجع اقر مره ثني\n",
       "416909      1  جمع قصص جمل بدع نجب نهي عنب ولو قصص اثر فيا حد...\n",
       "416910      1  كتب اسم حكي بلا بدي خبر نهي بدي عظم روي خمس عك...\n",
       "416911      1  جزء عبقر نجب حفظ صفح جمل حره عشق هوه روي حمد ر...\n",
       "416912      1                            عده نجب حفظ فضل كتب روي"
      ]
     },
     "execution_count": 21,
     "metadata": {},
     "output_type": "execute_result"
    }
   ],
   "source": [
    "print(data.shape)\n",
    "data.head()"
   ]
  },
  {
   "cell_type": "code",
   "execution_count": 22,
   "id": "10afd1be",
   "metadata": {},
   "outputs": [
    {
     "data": {
      "text/plain": [
       "1    76453\n",
       "0    76303\n",
       "Name: label, dtype: int64"
      ]
     },
     "execution_count": 22,
     "metadata": {},
     "output_type": "execute_result"
    }
   ],
   "source": [
    "data.label.value_counts()"
   ]
  },
  {
   "cell_type": "markdown",
   "id": "dc679323",
   "metadata": {},
   "source": [
    "# Calculate Length of sentence and preprocessing"
   ]
  },
  {
   "cell_type": "code",
   "execution_count": 23,
   "id": "9afb3579",
   "metadata": {},
   "outputs": [],
   "source": [
    "text_len = []\n",
    "for text in data.sentence:\n",
    "    tweet_len = len(text.split())\n",
    "    text_len.append(tweet_len)\n",
    "    \n",
    "data['text_len'] = text_len"
   ]
  },
  {
   "cell_type": "code",
   "execution_count": 24,
   "id": "b03e1d95",
   "metadata": {},
   "outputs": [
    {
     "data": {
      "image/png": "[encoded data removed]",
      "text/plain": [
       "<Figure size 700x500 with 1 Axes>"
      ]
     },
     "metadata": {},
     "output_type": "display_data"
    }
   ],
   "source": [
    "plt.figure(figsize=(7,5))\n",
    "\n",
    "ax = sns.countplot(x='text_len', data=data[data['text_len'] < 35 ], palette='mako')\n",
    "plt.title('Count of sentence with less than 10 words', fontsize=20)\n",
    "plt.yticks([])\n",
    "ax.bar_label(ax.containers[0])\n",
    "plt.ylabel('count')\n",
    "plt.xlabel('')\n",
    "plt.show()"
   ]
  },
  {
   "cell_type": "code",
   "execution_count": 25,
   "id": "ecc9c0e3",
   "metadata": {},
   "outputs": [
    {
     "data": {
      "text/html": [
       "<div>\n",
       "<style scoped>\n",
       "    .dataframe tbody tr th:only-of-type {\n",
       "        vertical-align: middle;\n",
       "    }\n",
       "\n",
       "    .dataframe tbody tr th {\n",
       "        vertical-align: top;\n",
       "    }\n",
       "\n",
       "    .dataframe thead th {\n",
       "        text-align: right;\n",
       "    }\n",
       "</style>\n",
       "<table border=\"1\" class=\"dataframe\">\n",
       "  <thead>\n",
       "    <tr style=\"text-align: right;\">\n",
       "      <th></th>\n",
       "      <th>label</th>\n",
       "      <th>sentence</th>\n",
       "      <th>text_len</th>\n",
       "    </tr>\n",
       "  </thead>\n",
       "  <tbody>\n",
       "    <tr>\n",
       "      <th>501177</th>\n",
       "      <td>0</td>\n",
       "      <td>عقد غلط طبع اسم فرض يبق اسم فرق نجي عطا الل لل...</td>\n",
       "      <td>1202</td>\n",
       "    </tr>\n",
       "    <tr>\n",
       "      <th>255940</th>\n",
       "      <td>0</td>\n",
       "      <td>حذر ريفيو ده مكن قلل ادب حقق غلب هيك قلل ادب ر...</td>\n",
       "      <td>1123</td>\n",
       "    </tr>\n",
       "    <tr>\n",
       "      <th>485058</th>\n",
       "      <td>1</td>\n",
       "      <td>فءد حدد تجل ديو صور عبر تلطخ بمل دوخ يعا فءد ح...</td>\n",
       "      <td>1122</td>\n",
       "    </tr>\n",
       "    <tr>\n",
       "      <th>360515</th>\n",
       "      <td>0</td>\n",
       "      <td>ذكر اتي خلف كتب واي نشر نزي خلي نبد بدي بدي رخ...</td>\n",
       "      <td>1107</td>\n",
       "    </tr>\n",
       "    <tr>\n",
       "      <th>253990</th>\n",
       "      <td>0</td>\n",
       "      <td>عقد مكن تغر اسم كتب نسب كتر تاه فتي وف نسب تني...</td>\n",
       "      <td>1100</td>\n",
       "    </tr>\n",
       "    <tr>\n",
       "      <th>...</th>\n",
       "      <td>...</td>\n",
       "      <td>...</td>\n",
       "      <td>...</td>\n",
       "    </tr>\n",
       "    <tr>\n",
       "      <th>150668</th>\n",
       "      <td>0</td>\n",
       "      <td>سفف</td>\n",
       "      <td>1</td>\n",
       "    </tr>\n",
       "    <tr>\n",
       "      <th>456798</th>\n",
       "      <td>1</td>\n",
       "      <td>حممل</td>\n",
       "      <td>1</td>\n",
       "    </tr>\n",
       "    <tr>\n",
       "      <th>42742</th>\n",
       "      <td>0</td>\n",
       "      <td>سحق</td>\n",
       "      <td>1</td>\n",
       "    </tr>\n",
       "    <tr>\n",
       "      <th>14144</th>\n",
       "      <td>0</td>\n",
       "      <td>ريه</td>\n",
       "      <td>1</td>\n",
       "    </tr>\n",
       "    <tr>\n",
       "      <th>476448</th>\n",
       "      <td>1</td>\n",
       "      <td>فلغاغفلاولخلاملخرلمربيحزلمخلاواملازركبيوءفخولا...</td>\n",
       "      <td>1</td>\n",
       "    </tr>\n",
       "  </tbody>\n",
       "</table>\n",
       "<p>152756 rows × 3 columns</p>\n",
       "</div>"
      ],
      "text/plain": [
       "        label                                           sentence  text_len\n",
       "501177      0  عقد غلط طبع اسم فرض يبق اسم فرق نجي عطا الل لل...      1202\n",
       "255940      0  حذر ريفيو ده مكن قلل ادب حقق غلب هيك قلل ادب ر...      1123\n",
       "485058      1  فءد حدد تجل ديو صور عبر تلطخ بمل دوخ يعا فءد ح...      1122\n",
       "360515      0  ذكر اتي خلف كتب واي نشر نزي خلي نبد بدي بدي رخ...      1107\n",
       "253990      0  عقد مكن تغر اسم كتب نسب كتر تاه فتي وف نسب تني...      1100\n",
       "...       ...                                                ...       ...\n",
       "150668      0                                                سفف         1\n",
       "456798      1                                               حممل         1\n",
       "42742       0                                                سحق         1\n",
       "14144       0                                                ريه         1\n",
       "476448      1  فلغاغفلاولخلاملخرلمربيحزلمخلاواملازركبيوءفخولا...         1\n",
       "\n",
       "[152756 rows x 3 columns]"
      ]
     },
     "execution_count": 25,
     "metadata": {},
     "output_type": "execute_result"
    }
   ],
   "source": [
    "data.sort_values(by=['text_len'], ascending=False)"
   ]
  },
  {
   "cell_type": "code",
   "execution_count": 26,
   "id": "96b8e1bc",
   "metadata": {},
   "outputs": [
    {
     "data": {
      "image/png": "[encoded data removed]",
      "text/plain": [
       "<Figure size 1600x500 with 1 Axes>"
      ]
     },
     "metadata": {},
     "output_type": "display_data"
    }
   ],
   "source": [
    "plt.figure(figsize=(16,5))\n",
    "ax = sns.countplot(x='text_len', data=data[(data['text_len']<=100) & (data['text_len']>50)], palette='Blues_r')\n",
    "plt.title('Count of tweets with high number of words', fontsize=25)\n",
    "plt.yticks([])\n",
    "ax.bar_label(ax.containers[0])\n",
    "plt.ylabel('count')\n",
    "plt.xlabel('')\n",
    "plt.show()"
   ]
  },
  {
   "cell_type": "code",
   "execution_count": 27,
   "id": "03eb7cbb",
   "metadata": {},
   "outputs": [],
   "source": [
    "data = data[data['text_len'] <= 100]\n",
    "data = data[data['text_len'] > 1]"
   ]
  },
  {
   "cell_type": "code",
   "execution_count": 28,
   "id": "c26616c2",
   "metadata": {},
   "outputs": [
    {
     "data": {
      "text/plain": [
       "100"
      ]
     },
     "execution_count": 28,
     "metadata": {},
     "output_type": "execute_result"
    }
   ],
   "source": [
    "max_len = np.max(data['text_len'])\n",
    "max_len "
   ]
  },
  {
   "cell_type": "code",
   "execution_count": 29,
   "id": "52533f4c",
   "metadata": {},
   "outputs": [
    {
     "data": {
      "text/plain": [
       "0    67539\n",
       "1    64407\n",
       "Name: label, dtype: int64"
      ]
     },
     "execution_count": 29,
     "metadata": {},
     "output_type": "execute_result"
    }
   ],
   "source": [
    "data.label.value_counts()"
   ]
  },
  {
   "cell_type": "code",
   "execution_count": 30,
   "id": "b1c9116d",
   "metadata": {
    "scrolled": true
   },
   "outputs": [
    {
     "data": {
      "text/html": [
       "<div>\n",
       "<style scoped>\n",
       "    .dataframe tbody tr th:only-of-type {\n",
       "        vertical-align: middle;\n",
       "    }\n",
       "\n",
       "    .dataframe tbody tr th {\n",
       "        vertical-align: top;\n",
       "    }\n",
       "\n",
       "    .dataframe thead th {\n",
       "        text-align: right;\n",
       "    }\n",
       "</style>\n",
       "<table border=\"1\" class=\"dataframe\">\n",
       "  <thead>\n",
       "    <tr style=\"text-align: right;\">\n",
       "      <th></th>\n",
       "      <th>label</th>\n",
       "      <th>sentence</th>\n",
       "      <th>text_len</th>\n",
       "    </tr>\n",
       "  </thead>\n",
       "  <tbody>\n",
       "    <tr>\n",
       "      <th>250779</th>\n",
       "      <td>0</td>\n",
       "      <td>ريه كرا ضعف نسب جذب وخص اني قرت بعد قرت دره عم...</td>\n",
       "      <td>100</td>\n",
       "    </tr>\n",
       "    <tr>\n",
       "      <th>299375</th>\n",
       "      <td>0</td>\n",
       "      <td>حذر ءلف ولو كويلو جعل جمل تحي وجه نظر فصل كتب ...</td>\n",
       "      <td>100</td>\n",
       "    </tr>\n",
       "    <tr>\n",
       "      <th>418067</th>\n",
       "      <td>1</td>\n",
       "      <td>فلم هزم ميد قتل دار حول ختل ميد بنء صنع قبل صط...</td>\n",
       "      <td>100</td>\n",
       "    </tr>\n",
       "    <tr>\n",
       "      <th>413885</th>\n",
       "      <td>0</td>\n",
       "      <td>بدي عرف جهل عرف بقص حلج اسم ردد كتب دفع قرء دي...</td>\n",
       "      <td>100</td>\n",
       "    </tr>\n",
       "    <tr>\n",
       "      <th>106687</th>\n",
       "      <td>0</td>\n",
       "      <td>ريه بدي مله نصف ثير ماتضيع فصل وجد جدي كري شخص...</td>\n",
       "      <td>100</td>\n",
       "    </tr>\n",
       "    <tr>\n",
       "      <th>...</th>\n",
       "      <td>...</td>\n",
       "      <td>...</td>\n",
       "      <td>...</td>\n",
       "    </tr>\n",
       "    <tr>\n",
       "      <th>359683</th>\n",
       "      <td>0</td>\n",
       "      <td>نهت صعب</td>\n",
       "      <td>2</td>\n",
       "    </tr>\n",
       "    <tr>\n",
       "      <th>173874</th>\n",
       "      <td>0</td>\n",
       "      <td>مش وقع</td>\n",
       "      <td>2</td>\n",
       "    </tr>\n",
       "    <tr>\n",
       "      <th>37614</th>\n",
       "      <td>0</td>\n",
       "      <td>ريفيو شيل</td>\n",
       "      <td>2</td>\n",
       "    </tr>\n",
       "    <tr>\n",
       "      <th>37598</th>\n",
       "      <td>0</td>\n",
       "      <td>حله خفف</td>\n",
       "      <td>2</td>\n",
       "    </tr>\n",
       "    <tr>\n",
       "      <th>127677</th>\n",
       "      <td>0</td>\n",
       "      <td>ممل قصر</td>\n",
       "      <td>2</td>\n",
       "    </tr>\n",
       "  </tbody>\n",
       "</table>\n",
       "<p>131946 rows × 3 columns</p>\n",
       "</div>"
      ],
      "text/plain": [
       "        label                                           sentence  text_len\n",
       "250779      0  ريه كرا ضعف نسب جذب وخص اني قرت بعد قرت دره عم...       100\n",
       "299375      0  حذر ءلف ولو كويلو جعل جمل تحي وجه نظر فصل كتب ...       100\n",
       "418067      1  فلم هزم ميد قتل دار حول ختل ميد بنء صنع قبل صط...       100\n",
       "413885      0  بدي عرف جهل عرف بقص حلج اسم ردد كتب دفع قرء دي...       100\n",
       "106687      0  ريه بدي مله نصف ثير ماتضيع فصل وجد جدي كري شخص...       100\n",
       "...       ...                                                ...       ...\n",
       "359683      0                                            نهت صعب         2\n",
       "173874      0                                             مش وقع         2\n",
       "37614       0                                          ريفيو شيل         2\n",
       "37598       0                                            حله خفف         2\n",
       "127677      0                                            ممل قصر         2\n",
       "\n",
       "[131946 rows x 3 columns]"
      ]
     },
     "execution_count": 30,
     "metadata": {},
     "output_type": "execute_result"
    }
   ],
   "source": [
    "data.sort_values(by=[\"text_len\"], ascending=False)"
   ]
  },
  {
   "cell_type": "code",
   "execution_count": 31,
   "id": "be7f11f9",
   "metadata": {},
   "outputs": [
    {
     "name": "stdout",
     "output_type": "stream",
     "text": [
      "False\n"
     ]
    }
   ],
   "source": [
    "print(torch.cuda.is_available())\n"
   ]
  },
  {
   "cell_type": "code",
   "execution_count": 49,
   "id": "793298d0",
   "metadata": {},
   "outputs": [
    {
     "name": "stdout",
     "output_type": "stream",
     "text": [
      "        label                                            content\n",
      "416908      1        جمع قصص رهب درج اني خلص فكر رجع اقر مره ثني\n",
      "416909      1  جمع قصص جمل بدع نجب نهي عنب ولو قصص اثر فيا حد...\n",
      "416910      1  كتب اسم حكي بلا بدي خبر نهي بدي عظم روي خمس عك...\n",
      "416911      1  جزء عبقر نجب حفظ صفح جمل حره عشق هوه روي حمد ر...\n",
      "416912      1                            عده نجب حفظ فضل كتب روي\n"
     ]
    }
   ],
   "source": [
    "data2 = data\n",
    "data3 = data2.drop(['text_len'], axis=1)\n",
    "data3.columns = ['label' ,'content']\n",
    "\n",
    "print(data3.head())\n",
    "#data3.to_csv(\"C:/Users/hp/Documents/models/BRAD_CLEAN.csv\",index=False)"
   ]
  },
  {
   "cell_type": "markdown",
   "id": "230ea6e9",
   "metadata": {},
   "source": [
    "# Split data"
   ]
  },
  {
   "cell_type": "code",
   "execution_count": 64,
   "id": "520aa2a7",
   "metadata": {},
   "outputs": [],
   "source": [
    "X = data['sentence']\n",
    "y = data['label']"
   ]
  },
  {
   "cell_type": "code",
   "execution_count": 53,
   "id": "8081c618",
   "metadata": {},
   "outputs": [
    {
     "name": "stdout",
     "output_type": "stream",
     "text": [
      "(105556, 2)\n",
      "(26390, 2)\n"
     ]
    }
   ],
   "source": [
    "train , dev = train_test_split(data3, test_size=0.2, random_state=seed_value)\n",
    "print(train.shape)\n",
    "print(dev.shape)\n",
    "train.to_csv(\"C:/Users/hp/Documents/models/BRAD_train.csv\",index=False)\n",
    "dev.to_csv(\"C:/Users/hp/Documents/models/BRAD_dev.csv\",index=False)"
   ]
  },
  {
   "cell_type": "code",
   "execution_count": 65,
   "id": "8d3e2a22",
   "metadata": {},
   "outputs": [],
   "source": [
    "X_train, X_test, y_train, y_test = train_test_split(X, y, test_size=0.2, stratify=y, random_state=seed_value)"
   ]
  },
  {
   "cell_type": "markdown",
   "id": "c103adfa",
   "metadata": {},
   "source": [
    "# Model"
   ]
  },
  {
   "cell_type": "code",
   "execution_count": 68,
   "id": "f2d99b77",
   "metadata": {},
   "outputs": [],
   "source": [
    "X_train = X_train.values\n",
    "y_train = y_train.values"
   ]
  },
  {
   "cell_type": "code",
   "execution_count": 69,
   "id": "cf0ebd37",
   "metadata": {},
   "outputs": [],
   "source": [
    "clf = CountVectorizer()\n",
    "X_train_cv =  clf.fit_transform(X_train)\n",
    "X_test_cv = clf.transform(X_test)"
   ]
  },
  {
   "cell_type": "code",
   "execution_count": 70,
   "id": "e9533d71",
   "metadata": {},
   "outputs": [],
   "source": [
    "tf_transformer = TfidfTransformer(use_idf=True).fit(X_train_cv)\n",
    "X_train_tf = tf_transformer.transform(X_train_cv)\n",
    "X_test_tf = tf_transformer.transform(X_test_cv)"
   ]
  },
  {
   "cell_type": "code",
   "execution_count": 72,
   "id": "8cc9f8b7",
   "metadata": {},
   "outputs": [],
   "source": [
    "nb_clf = MultinomialNB()"
   ]
  },
  {
   "cell_type": "code",
   "execution_count": 73,
   "id": "1e51458a",
   "metadata": {},
   "outputs": [
    {
     "data": {
      "text/plain": [
       "MultinomialNB()"
      ]
     },
     "execution_count": 73,
     "metadata": {},
     "output_type": "execute_result"
    }
   ],
   "source": [
    "nb_clf.fit(X_train_tf, y_train)"
   ]
  },
  {
   "cell_type": "code",
   "execution_count": 74,
   "id": "32c7582c",
   "metadata": {},
   "outputs": [],
   "source": [
    "nb_pred = nb_clf.predict(X_test_tf)"
   ]
  },
  {
   "cell_type": "code",
   "execution_count": 76,
   "id": "b268f22a",
   "metadata": {},
   "outputs": [
    {
     "name": "stdout",
     "output_type": "stream",
     "text": [
      "Classification Report for Naive Bayes:\n",
      "               precision    recall  f1-score   support\n",
      "\n",
      "           0       0.78      0.78      0.78     13508\n",
      "           1       0.77      0.77      0.77     12882\n",
      "\n",
      "    accuracy                           0.77     26390\n",
      "   macro avg       0.77      0.77      0.77     26390\n",
      "weighted avg       0.77      0.77      0.77     26390\n",
      "\n"
     ]
    }
   ],
   "source": [
    "print('Classification Report for Naive Bayes:\\n',classification_report(y_test, nb_pred))"
   ]
  },
  {
   "cell_type": "code",
   "execution_count": 78,
   "id": "51857262",
   "metadata": {},
   "outputs": [],
   "source": [
    "def conf_matrix(y, y_pred, title, labels):\n",
    "    fig, ax =plt.subplots(figsize=(7.5,7.5))\n",
    "    ax=sns.heatmap(confusion_matrix(y, y_pred), annot=True, cmap=\"Purples\", fmt='g', cbar=False, annot_kws={\"size\":30})\n",
    "    plt.title(title, fontsize=25)\n",
    "    ax.xaxis.set_ticklabels(labels, fontsize=16) \n",
    "    ax.yaxis.set_ticklabels(labels, fontsize=14.5)\n",
    "    ax.set_ylabel('Test', fontsize=25)\n",
    "    ax.set_xlabel('Predicted', fontsize=25)\n",
    "    plt.show()"
   ]
  },
  {
   "cell_type": "code",
   "execution_count": 79,
   "id": "4527808d",
   "metadata": {},
   "outputs": [
    {
     "data": {
      "image/png": "[encoded data removed]",
      "text/plain": [
       "<Figure size 750x750 with 1 Axes>"
      ]
     },
     "metadata": {},
     "output_type": "display_data"
    }
   ],
   "source": [
    "conf_matrix(y_test,nb_pred,'Naive Bayes Sentiment Analysis\\nConfusion Matrix', ['0' ,'1'])"
   ]
  },
  {
   "cell_type": "code",
   "execution_count": null,
   "id": "02560985",
   "metadata": {},
   "outputs": [],
   "source": []
  },
  {
   "cell_type": "code",
   "execution_count": null,
   "id": "a9a1be8d",
   "metadata": {},
   "outputs": [],
   "source": []
  }
 ],
 "metadata": {
  "kernelspec": {
   "display_name": "Python 3 (ipykernel)",
   "language": "python",
   "name": "python3"
  },
  "language_info": {
   "codemirror_mode": {
    "name": "ipython",
    "version": 3
   },
   "file_extension": ".py",
   "mimetype": "text/x-python",
   "name": "python",
   "nbconvert_exporter": "python",
   "pygments_lexer": "ipython3",
   "version": "3.9.13"
  }
 },
 "nbformat": 4,
 "nbformat_minor": 5
}
